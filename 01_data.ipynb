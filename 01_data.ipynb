{
 "cells": [
  {
   "cell_type": "code",
   "execution_count": null,
   "metadata": {},
   "outputs": [],
   "source": [
    "# default_exp data"
   ]
  },
  {
   "cell_type": "markdown",
   "metadata": {},
   "source": [
    "# cheviz data\n",
    "\n",
    "> API details."
   ]
  },
  {
   "cell_type": "code",
   "execution_count": null,
   "metadata": {},
   "outputs": [],
   "source": [
    "#hide\n",
    "from nbdev.showdoc import *"
   ]
  },
  {
   "cell_type": "markdown",
   "metadata": {},
   "source": [
    "We create a data directory and fetch some annotated PGNs of top tier chess tournaments."
   ]
  },
  {
   "cell_type": "code",
   "execution_count": null,
   "metadata": {},
   "outputs": [
    {
     "name": "stdout",
     "output_type": "stream",
     "text": [
      "00_core.ipynb  CONTRIBUTING.md\tindex.ipynb  MANIFEST.in       settings.ini\r\n",
      "01_data.ipynb  data\t\tLICENSE      README.md\t       setup.py\r\n",
      "cheviz\t       docs\t\tMakefile     requirements.txt\r\n"
     ]
    }
   ],
   "source": [
    "!mkdir -p data\n",
    "!ls"
   ]
  },
  {
   "cell_type": "markdown",
   "metadata": {},
   "source": [
    "In Jupyter there is that nice `!some shell command` escape hatch that would allow us to simply use `curl` or `wget`. However, we cannot use the escape hatch in code we want to export as a module. So we use urllib and shutil instead. Because of Python's `with ... as ...` pattern this produces unexpectedly elegant code (which I didn't come up with myself but found on [stack overflow, obviously](https://stackoverflow.com/questions/7243750/download-file-from-web-in-python-3/7244263#7244263))."
   ]
  },
  {
   "cell_type": "code",
   "execution_count": null,
   "metadata": {},
   "outputs": [],
   "source": [
    "#export\n",
    "from pathlib import Path\n",
    "import urllib.request\n",
    "import shutil\n",
    "\n",
    "def fetch()->dict:\n",
    "    result = {}\n",
    "    url_prefix = 'https://pgnchessbook.org/wp-content/uploads/2019/08/'\n",
    "    data_files = ['WorldChamp_1986_to_2018.pgn', 'Candidates_1953.pgn', 'WijkaanZee2019.pgn', 'Shamkir2019.pgn', 'Baden2019.pgn']\n",
    "    \n",
    "    for file in data_files:\n",
    "        src = url_prefix + file\n",
    "        dst = Path().absolute() / 'data' / file\n",
    "        if not dst.is_file():\n",
    "            with urllib.request.urlopen(src) as response, open(dst, 'wb') as dst_file:\n",
    "                shutil.copyfileobj(response, dst_file)\n",
    "            \n",
    "        if dst.is_file():\n",
    "            result[file] = dst\n",
    "            \n",
    "    return result"
   ]
  },
  {
   "cell_type": "code",
   "execution_count": null,
   "metadata": {},
   "outputs": [
    {
     "name": "stdout",
     "output_type": "stream",
     "text": [
      "Baden2019.pgn\t     Shamkir2019.pgn\t WorldChamp_1986_to_2018.pgn\r\n",
      "Candidates_1953.pgn  WijkaanZee2019.pgn\r\n"
     ]
    }
   ],
   "source": [
    "data = fetch()\n",
    "!ls data"
   ]
  },
  {
   "cell_type": "code",
   "execution_count": null,
   "metadata": {},
   "outputs": [
    {
     "name": "stdout",
     "output_type": "stream",
     "text": [
      "756K\tdata\r\n"
     ]
    }
   ],
   "source": [
    "!du -sh data"
   ]
  },
  {
   "cell_type": "markdown",
   "metadata": {},
   "source": [
    "Now that we downloaded our chess games, we wrap the chess.pgn parser in a generator. Notice that a single PGN file can contain multiple chess games, as is the case with our tournament archives. "
   ]
  },
  {
   "cell_type": "code",
   "execution_count": null,
   "metadata": {},
   "outputs": [],
   "source": [
    "#export\n",
    "import chess.pgn\n",
    "\n",
    "def games(pgn_name:str)->chess.pgn.Game:\n",
    "    with open(pgn_name, 'r') as pgn_file:\n",
    "        games_read = []\n",
    "        while True:\n",
    "            game = chess.pgn.read_game(pgn_file)\n",
    "            if game is None:\n",
    "                break\n",
    "            \n",
    "            yield (game.board(), game.mainline_moves(), game.headers)"
   ]
  },
  {
   "cell_type": "markdown",
   "metadata": {},
   "source": [
    "On my machine, it takes roughly a second to parse all games of the 1953 world championship candidate tournament. This is probably slow considering the PGN file has a size of only 120kb. As data scientists we learn to ignore what could otherwise annoy us as software engineers – after all, we need automated insights, not a fast PGN parser."
   ]
  },
  {
   "cell_type": "code",
   "execution_count": null,
   "metadata": {},
   "outputs": [
    {
     "name": "stdout",
     "output_type": "stream",
     "text": [
      "CPU times: user 767 ms, sys: 4.02 ms, total: 771 ms\n",
      "Wall time: 772 ms\n"
     ]
    },
    {
     "data": {
      "text/plain": [
       "(Board('rnbqkbnr/pppppppp/8/8/8/8/PPPPPPPP/RNBQKBNR w KQkq - 0 1'),\n",
       " <Mainline at 0x7fd0c284a1d0 (1. c4 Nf6 2. g3 e6 3. Bg2 d5 4. d4 dxc4 5. Qa4+ Nbd7 6. Nf3 a6 7. Qxc4 b5 8. Qc6 Rb8 9. Bf4 Nd5 10. Bg5 Be7 11. Bxe7 Qxe7 12. O-O Bb7 13. Qc2 c5 14. dxc5 Nxc5 15. Rc1 Rc8 16. Nc3 Nf6 17. b4 Na4 18. Qb3 Nxc3 19. Rxc3 Rxc3 20. Qxc3 O-O 21. Rc1 Rd8 22. a3 Nd5 23. Qd4 f6 24. Ne1 e5 25. Qc5 Qxc5 26. bxc5 Bc6 27. Rd1 Rd7 28. Bh3 Re7 29. Nc2 a5 30. Bg2 Rd7 31. Bh3 Re7 32. Kf1 Kf7 33. Ke1 Rc7 34. Rd3 Bb7 35. Ne3 Rxc5 36. Nf5 Bc6 37. Nd6+ Kf8 38. Bg2 g6 39. Kd2 Ke7 40. Ne4 Rc4 41. f3 f5 42. Nf2 Ra4 43. Nd1 e4 44. fxe4 fxe4 45. Rb3 Rd4+ 46. Kc1 b4 47. Ne3 Nc3 48. axb4 Nxe2+ 49. Kb1 Ba4 50. Rb2 Nc3+ 51. Kc1 axb4 52. Rd2 Rxd2 53. Kxd2 Kd6 54. Ng4 Kc5 55. h4 Kd4 56. h5 gxh5 57. Ne3 Nb1+ 58. Ke2 Bb5+ 59. Kf2 b3)>,\n",
       " Headers(Event='ct', Site='Zurich', Date='1953.??.??', Round='01', White='Szabo L', Black='Geller E', Result='0-1'))"
      ]
     },
     "execution_count": null,
     "metadata": {},
     "output_type": "execute_result"
    }
   ],
   "source": [
    "pgn = {}\n",
    "key = 'Candidates_1953.pgn'\n",
    "\n",
    "%time pgn[key] = list(games(data[key]))   \n",
    "board, moves, header = pgn[key][0]\n",
    "board, moves, header"
   ]
  },
  {
   "cell_type": "code",
   "execution_count": null,
   "metadata": {},
   "outputs": [
    {
     "data": {
      "text/plain": [
       "(chess.Board, chess.pgn.Mainline, chess.pgn.Headers)"
      ]
     },
     "execution_count": null,
     "metadata": {},
     "output_type": "execute_result"
    }
   ],
   "source": [
    "type(board), type(moves), type(header)"
   ]
  },
  {
   "cell_type": "markdown",
   "metadata": {},
   "source": [
    "Our PGN archive has been parsed into a list of games, grouped by tournament. Each game is represented by a tuple, `(chess.Board, chess.pgn.Mainline, chess.pgn.Headers)`. The game meta data is stored in `chess.pgn.Headers`,  following the Seven Tag Roster scheme, or STR. `chess.Board` contains the current position, `chess.pgn.Mainline` contains all mainline moves. \n",
    "\n",
    "We already know how to visualize a single position, for each side."
   ]
  },
  {
   "cell_type": "code",
   "execution_count": null,
   "metadata": {},
   "outputs": [
    {
     "data": {
      "text/plain": [
       "<matplotlib.image.AxesImage at 0x7fd0b414fc50>"
      ]
     },
     "execution_count": null,
     "metadata": {},
     "output_type": "execute_result"
    },
    {
     "data": {
      "image/png": "[encoded data removed]",
      "text/plain": [
       "<Figure size 288x288 with 1 Axes>"
      ]
     },
     "metadata": {
      "needs_background": "light"
     },
     "output_type": "display_data"
    }
   ],
   "source": [
    "from cheviz import core\n",
    "\n",
    "ts = core.makeThreatenedSquares(board=board)\n",
    "core.show(ts(chess.BLACK))"
   ]
  },
  {
   "cell_type": "markdown",
   "metadata": {},
   "source": [
    "To advance the board by a move, we push the next move of the mainline onto the board."
   ]
  },
  {
   "cell_type": "code",
   "execution_count": null,
   "metadata": {},
   "outputs": [
    {
     "data": {
      "text/plain": [
       "Move.from_uci('c2c4')"
      ]
     },
     "execution_count": null,
     "metadata": {},
     "output_type": "execute_result"
    }
   ],
   "source": [
    "moves_list = list(moves)\n",
    "moves_list[0]"
   ]
  },
  {
   "cell_type": "markdown",
   "metadata": {},
   "source": [
    "Notice that a repeating push of the same move will corrupt the board configuration. We need to carefully reset the board configuration by either popping the last move from the move stack or resetting the move stack entirely."
   ]
  },
  {
   "cell_type": "code",
   "execution_count": null,
   "metadata": {},
   "outputs": [
    {
     "data": {
      "text/plain": [
       "<matplotlib.image.AxesImage at 0x7fd0b408a0b8>"
      ]
     },
     "execution_count": null,
     "metadata": {},
     "output_type": "execute_result"
    },
    {
     "data": {
      "image/png": "[encoded data removed]",
      "text/plain": [
       "<Figure size 288x288 with 1 Axes>"
      ]
     },
     "metadata": {
      "needs_background": "light"
     },
     "output_type": "display_data"
    }
   ],
   "source": [
    "board.reset()\n",
    "board.push(moves_list[0])\n",
    "core.show(ts(chess.WHITE, core.attack))"
   ]
  }
 ],
 "metadata": {
  "kernelspec": {
   "display_name": "Python 3",
   "language": "python",
   "name": "python3"
  }
 },
 "nbformat": 4,
 "nbformat_minor": 2
}
