{
 "cells": [
  {
   "cell_type": "markdown",
   "metadata": {},
   "source": [
    "__future__ is needed for interactive widgets, has to be imported before everything else."
   ]
  },
  {
   "cell_type": "code",
   "execution_count": null,
   "metadata": {},
   "outputs": [],
   "source": [
    "from __future__ import print_function"
   ]
  },
  {
   "cell_type": "code",
   "execution_count": null,
   "metadata": {},
   "outputs": [],
   "source": [
    "# default_exp ui"
   ]
  },
  {
   "cell_type": "markdown",
   "metadata": {},
   "source": [
    "# cheviz ui\n",
    "\n",
    "**FIXME:** There are compatibility problems with JupyterLab and ipywidgets, see for instance https://github.com/jupyter-widgets/ipywidgets/issues/2488 or https://stackoverflow.com/questions/49542417/how-to-get-ipywidgets-working-in-jupyter-lab – I need to address that at some point even though I am still using classic Jupyter notebooks. The mentioned workarounds advice to install JavaScript extensions to JupyterLab via npm, of all things. That sounds to me like the same bad decisions that affected the Gnome 3 desktop."
   ]
  },
  {
   "cell_type": "code",
   "execution_count": null,
   "metadata": {},
   "outputs": [],
   "source": [
    "#hide\n",
    "from nbdev.showdoc import *"
   ]
  },
  {
   "cell_type": "markdown",
   "metadata": {},
   "source": [
    "We can use interactive widgets with Jupyter for our minimal UI."
   ]
  },
  {
   "cell_type": "code",
   "execution_count": null,
   "metadata": {},
   "outputs": [],
   "source": [
    "#export\n",
    "from ipywidgets import interact, interactive, fixed, interact_manual\n",
    "import ipywidgets as widgets\n",
    "from cheviz import core, data"
   ]
  },
  {
   "cell_type": "code",
   "execution_count": null,
   "metadata": {},
   "outputs": [
    {
     "data": {
      "application/vnd.jupyter.widget-view+json": {
       "model_id": "4ef93b1cdd4942849b7eb9dc01675675",
       "version_major": 2,
       "version_minor": 0
      },
      "text/plain": [
       "interactive(children=(IntSlider(value=10, description='x', max=30, min=-10), Output()), _dom_classes=('widget-…"
      ]
     },
     "metadata": {},
     "output_type": "display_data"
    },
    {
     "data": {
      "text/plain": [
       "<function __main__.fun(x:int)>"
      ]
     },
     "execution_count": null,
     "metadata": {},
     "output_type": "execute_result"
    }
   ],
   "source": [
    "def fun(x:int):\n",
    "    print(x)\n",
    "    \n",
    "interact(fun, x=10)"
   ]
  },
  {
   "cell_type": "code",
   "execution_count": null,
   "metadata": {},
   "outputs": [
    {
     "data": {
      "application/vnd.jupyter.widget-view+json": {
       "model_id": "e0274ab29aa34b818b4d4b3ecb2488f5",
       "version_major": 2,
       "version_minor": 0
      },
      "text/plain": [
       "interactive(children=(IntSlider(value=0, description='game_id', max=209), Output()), _dom_classes=('widget-int…"
      ]
     },
     "metadata": {},
     "output_type": "display_data"
    }
   ],
   "source": [
    "games = list(data.games(data.fetch()['Candidates_1953.pgn']))\n",
    "games_slider = widgets.IntSlider(min=0, max=len(games)-1, step=1, value=0)\n",
    "widgets.interactive(lambda game_id: print(games[game_id]), game_id=games_slider)"
   ]
  },
  {
   "cell_type": "markdown",
   "metadata": {},
   "source": [
    "OK, perhaps we can build a simple chess game replay UI?"
   ]
  },
  {
   "cell_type": "code",
   "execution_count": null,
   "metadata": {},
   "outputs": [],
   "source": [
    "#export\n",
    "from typing import Callable\n",
    "import chess\n",
    "\n",
    "def showGameUi(games:list, games_id:int=0, move:int=0, echo:int=1):\n",
    "    board = chess.Board()\n",
    "    \n",
    "    def gameUi(reduced:Callable, square_filter:Callable, game_id:int=0):\n",
    "        curr = games[game_id]\n",
    "        moves_list = list(curr[1])\n",
    "        ms = data.makeMoveSequencer(moves_list)\n",
    "        \n",
    "        def applyMoves(move:int, echo:int):\n",
    "            board.reset()\n",
    "            \n",
    "            for i in range(move):\n",
    "                board.push(moves_list[i])\n",
    "            \n",
    "            display(board)\n",
    "            if len(board.move_stack) > 0:\n",
    "                adjusted_wm = move if not board.turn else move - 1\n",
    "                adjusted_bm = move if board.turn else move - 1\n",
    "\n",
    "                core.show(reduced(ms(range(adjusted_wm - echo, adjusted_wm), chess.WHITE, square_filter)))\n",
    "                core.show(reduced(ms(range(adjusted_bm - echo, adjusted_bm), chess.BLACK, square_filter)))\n",
    "                                \n",
    "        moves_slider = widgets.IntSlider(min=0, max=len(moves_list), step=1, value=move)\n",
    "        echo_slider = widgets.IntSlider(min=1, max=len(moves_list), step=2, value=echo)\n",
    "        display(widgets.interactive(applyMoves, move=moves_slider, echo=echo_slider))\n",
    "        print(curr[2])\n",
    "        \n",
    "    metrics_dd = widgets.Dropdown(options=[data.diffReduce, sum], value=data.diffReduce, description='Metric:', disabled=False)\n",
    "    square_filter_dd = widgets.Dropdown(options=[core.attack, core.defence], value=core.attack, description='Square filter:', disabled=False)\n",
    "    games_slider = widgets.IntSlider(min=0, max=len(games)-1, step=1, value=games_id)\n",
    "    display(widgets.interactive(gameUi, reduced=metrics_dd, square_filter=square_filter_dd, game_id=games_slider))"
   ]
  },
  {
   "cell_type": "markdown",
   "metadata": {},
   "source": [
    "For each UI element that controls input (here: our 3 sliders) we need a function to act as callback for the widget. Because I want those functions to implicitly share *some* state and yet not be visible as surface API of the ui module, I have chosen to nest those functions instead. Both showGameUi(...) and gameUi(...) act as closures. Since applyMoves(...) takes two arguments it receives input from two sliders (moves_slider, echo_slider). Analogous to applyMoves(...), gameUi(...) takes three arguments. The metric and square filter drop-down list both store/select function pointers.\n",
    "\n",
    "A rather complex part of the code deals with a typical problem in chess: We have two sides, with alternating moves between them. At move 1, white made its first move and it's black's turn. Once black moves, white is an extra half move away from its initial position, without having moved itself. A move echo larger than 1 makes this issue clearly visible for instance. Our move selection mechanism (here: a Python range) needs to reflect that issue, hence the need for adjusted_{wm, bm} variables. One can discuss whether it might be cleaner to have two separate move stacks, one for each side, simply to avoid mis-steps wrt. move selection when in between moves."
   ]
  },
  {
   "cell_type": "code",
   "execution_count": null,
   "metadata": {},
   "outputs": [
    {
     "data": {
      "application/vnd.jupyter.widget-view+json": {
       "model_id": "391fa7becaf048228cd3eaf919725c79",
       "version_major": 2,
       "version_minor": 0
      },
      "text/plain": [
       "interactive(children=(Dropdown(description='Metric:', options=(<function diffReduce at 0x7efc59676d08>, <built…"
      ]
     },
     "metadata": {},
     "output_type": "display_data"
    }
   ],
   "source": [
    "showGameUi(games, games_id=57, move=23, echo=5)"
   ]
  },
  {
   "cell_type": "markdown",
   "metadata": {},
   "source": [
    "We can override the CSS for IPython's display function so that we can show multiple elements next to each other."
   ]
  },
  {
   "cell_type": "code",
   "execution_count": null,
   "metadata": {},
   "outputs": [
    {
     "data": {
      "text/html": [
       "<style>\n",
       ".output {\n",
       "    flex-direction: row;\n",
       "    flex-wrap: wrap;\n",
       "}\n",
       "</style>"
      ],
      "text/plain": [
       "<IPython.core.display.HTML object>"
      ]
     },
     "execution_count": null,
     "metadata": {},
     "output_type": "execute_result"
    }
   ],
   "source": [
    "from IPython.display import display, HTML\n",
    "\n",
    "CSS = \"\"\"\n",
    ".output {\n",
    "    flex-direction: row;\n",
    "    flex-wrap: wrap;\n",
    "}\n",
    "\"\"\"\n",
    "\n",
    "HTML('<style>{}</style>'.format(CSS))"
   ]
  },
  {
   "cell_type": "code",
   "execution_count": null,
   "metadata": {},
   "outputs": [],
   "source": []
  }
 ],
 "metadata": {
  "kernelspec": {
   "display_name": "Python 3",
   "language": "python",
   "name": "python3"
  }
 },
 "nbformat": 4,
 "nbformat_minor": 4
}
