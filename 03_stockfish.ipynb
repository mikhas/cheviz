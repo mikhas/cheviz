{
 "cells": [
  {
   "cell_type": "code",
   "execution_count": null,
   "metadata": {},
   "outputs": [],
   "source": [
    "# default_exp stockfish"
   ]
  },
  {
   "cell_type": "markdown",
   "metadata": {},
   "source": [
    "# cheviz stockfish\n",
    "\n",
    "This module integrates a chess engine, in this case the popular stockfish engine. The actual engine is provided by Python chess as [described here](https://python-chess.readthedocs.io/en/latest/engine.html). However, in our goal to build a complete ETL pipeline, we still need to get the engine running on our box. In a similar way as we got our data (PGN-encoded chess games), I'd like to use Jupyter Notebooks to perform the engine integration."
   ]
  },
  {
   "cell_type": "markdown",
   "metadata": {},
   "source": [
    "# 1. Motivation\n",
    "\n",
    "For automated insights, we need a way to let the computer learn about our metrics. We need something to compare against our metrics, so I figured I start with stockfish, a very popular chess engine. Python chess also interfaces with stockfish so I won't need another dependency, either.\n",
    "\n",
    "Stockfish is a small download and with the binaries having few dependencies they should be ready to go right after extracting the archive – no extra installation required. The engine should then help us by generating our training data."
   ]
  },
  {
   "cell_type": "markdown",
   "metadata": {},
   "source": [
    "# 2. Getting the engine"
   ]
  },
  {
   "cell_type": "code",
   "execution_count": null,
   "metadata": {},
   "outputs": [
    {
     "name": "stdout",
     "output_type": "stream",
     "text": [
      "00_core.ipynb\t    cheviz\t     index.ipynb  README.md\t    tools\r\n",
      "01_data.ipynb\t    CONTRIBUTING.md  LICENSE\t  requirements.txt\r\n",
      "02_ui.ipynb\t    data\t     Makefile\t  settings.ini\r\n",
      "03_stockfish.ipynb  docs\t     MANIFEST.in  setup.py\r\n"
     ]
    }
   ],
   "source": [
    "!mkdir -p \"tools\"\n",
    "!ls"
   ]
  },
  {
   "cell_type": "markdown",
   "metadata": {},
   "source": [
    "Assuming this notebook runs on a Linux box, we'll get the Linux binary [from the official website](https://stockfishchess.org/download/). We're not building high-end desktop software here (does such thing even exist?) so hard-coding the download URL for just the Linux version is OK. It might feel wrong, but the best advice to counter your (very valid) intuition is that we have to focus on our goal: automated insights. That is, don't spend time over-engineering the basic, non-data-sciency stuff in your pipeline *unless* your pipeline is ready to run in production and earn money for you. There is a reason why we use Python for all of this, so quick'n'dirty – to a certain degree – is the way to go.\n",
    "\n",
    "We need to set a fake browser user-agent for our download request, otherwise we get 403'd. Normally that's a sign you're doing something wrong at extra costs to someone else (in this case ISP hosting fees for the stockfish communiy). At 1.7M of download size, which is probably smaller than a typical project's landing page these days, I don't feel guilty at all."
   ]
  },
  {
   "cell_type": "code",
   "execution_count": null,
   "metadata": {},
   "outputs": [],
   "source": [
    "#export\n",
    "from pathlib import Path\n",
    "import urllib.request\n",
    "import shutil\n",
    "\n",
    "def download():\n",
    "    src = 'https://stockfishchess.org/files/stockfish-11-linux.zip'\n",
    "    dst = Path().absolute() / 'tools' / 'stockfish.zip'\n",
    "    \n",
    "    if not dst.is_file():\n",
    "        request = urllib.request.Request(src)\n",
    "        request.add_header('Referer', 'https://stockfishchess.org/download/')\n",
    "        request.add_header('User-Agent', 'Mozilla/5.0 (Windows NT 6.1; Win64; x64)')\n",
    "        \n",
    "        with urllib.request.urlopen(request) as response, open(dst, 'wb') as dst_file:\n",
    "            shutil.copyfileobj(response, dst_file)\n",
    "            \n",
    "    return dst"
   ]
  },
  {
   "cell_type": "markdown",
   "metadata": {},
   "source": [
    "We still need to extract the downloaded Zip archive. Also, we need to make the stockfish binary executable. There are 3 binaries available in this version, we use what I guess is the default one. More quick'n'dirty hardcoding that I expect to break sooner than later."
   ]
  },
  {
   "cell_type": "code",
   "execution_count": null,
   "metadata": {},
   "outputs": [],
   "source": [
    "#export\n",
    "from pathlib import Path\n",
    "import zipfile\n",
    "import os\n",
    "import stat\n",
    "\n",
    "def extract(dst:Path):\n",
    "    if not dst.is_file():\n",
    "        return\n",
    "    \n",
    "    with zipfile.ZipFile(dst, 'r') as zip_file:\n",
    "        zip_file.extractall(Path().absolute() / 'tools')\n",
    "        dst_extracted = Path().absolute() / 'tools' / zip_file.namelist()[0]\n",
    "            \n",
    "        # make binary executable\n",
    "        dst_binary = dst_extracted / 'Linux' / 'stockfish_20011801_x64'\n",
    "        st = os.stat(dst_binary)\n",
    "        os.chmod(dst_binary, st.st_mode | stat.S_IEXEC)\n",
    "        \n",
    "        return dst_binary"
   ]
  },
  {
   "cell_type": "code",
   "execution_count": null,
   "metadata": {},
   "outputs": [],
   "source": [
    "stockfish = extract(download())"
   ]
  },
  {
   "cell_type": "markdown",
   "metadata": {},
   "source": [
    "Check if we can run stockfish now, but let's not get stuck in stockfish's command prompt. So we send 'quit' to it immediately, which will still return the version of the binary and its authors."
   ]
  },
  {
   "cell_type": "code",
   "execution_count": null,
   "metadata": {},
   "outputs": [
    {
     "name": "stdout",
     "output_type": "stream",
     "text": [
      "Stockfish 11 64 by T. Romstad, M. Costalba, J. Kiiski, G. Linscott\r\n"
     ]
    }
   ],
   "source": [
    "!{stockfish} quit"
   ]
  }
 ],
 "metadata": {
  "kernelspec": {
   "display_name": "Python 3",
   "language": "python",
   "name": "python3"
  }
 },
 "nbformat": 4,
 "nbformat_minor": 4
}
