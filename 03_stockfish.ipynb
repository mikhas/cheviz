{
 "cells": [
  {
   "cell_type": "code",
   "execution_count": null,
   "metadata": {},
   "outputs": [],
   "source": [
    "# default_exp stockfish"
   ]
  },
  {
   "cell_type": "markdown",
   "metadata": {},
   "source": [
    "# cheviz stockfish\n",
    "\n",
    "This module integrates a chess engine, in this case the popular stockfish engine. The actual engine is provided by Python chess as [described here](https://python-chess.readthedocs.io/en/latest/engine.html). However, in our goal to build a complete ETL pipeline, we still need to get the engine running on our box. In a similar way as we got our data (PGN-encoded chess games), I'd like to use Jupyter Notebooks to perform the engine integration."
   ]
  },
  {
   "cell_type": "markdown",
   "metadata": {},
   "source": [
    "# 1. Motivation\n",
    "\n",
    "For automated insights, we need a way to let the computer learn about our metrics. We need something to compare against our metrics, so I figured I start with stockfish, a very popular chess engine. Python chess also interfaces with stockfish so I won't need another dependency, either.\n",
    "\n",
    "Stockfish is a small download and with the binaries having few dependencies they should be ready to go right after extracting the archive – no extra installation required. The engine should then help us by generating our training data."
   ]
  },
  {
   "cell_type": "markdown",
   "metadata": {},
   "source": [
    "# 2. Getting the engine"
   ]
  },
  {
   "cell_type": "code",
   "execution_count": null,
   "metadata": {},
   "outputs": [
    {
     "name": "stdout",
     "output_type": "stream",
     "text": [
      "00_core.ipynb\t    cheviz\t     index.ipynb  README.md\t    tools\r\n",
      "01_data.ipynb\t    CONTRIBUTING.md  LICENSE\t  requirements.txt\r\n",
      "02_ui.ipynb\t    data\t     Makefile\t  settings.ini\r\n",
      "03_stockfish.ipynb  docs\t     MANIFEST.in  setup.py\r\n"
     ]
    }
   ],
   "source": [
    "!mkdir -p \"tools\"\n",
    "!ls"
   ]
  },
  {
   "cell_type": "markdown",
   "metadata": {},
   "source": [
    "Assuming this notebook runs on a Linux box, we'll get the Linux binary [from the official website](https://stockfishchess.org/download/). We're not building high-end desktop software here (does such thing even exist?) so hard-coding the download URL for just the Linux version is OK. It might feel wrong, but the best advice to counter your (very valid) intuition is that we have to focus on our goal: automated insights. That is, don't spend time over-engineering the basic, non-data-sciency stuff in your pipeline *unless* your pipeline is ready to run in production and earn money for you. There is a reason why we use Python for all of this, so quick'n'dirty – to a certain degree – is the way to go.\n",
    "\n",
    "We need to set a fake browser user-agent for our download request, otherwise we get 403'd. Normally that's a sign you're doing something wrong at extra costs to someone else (in this case ISP hosting fees for the stockfish communiy). At 1.7M of download size, which is probably smaller than a typical project's landing page these days, I don't feel guilty at all."
   ]
  },
  {
   "cell_type": "code",
   "execution_count": null,
   "metadata": {},
   "outputs": [],
   "source": [
    "#export\n",
    "from pathlib import Path\n",
    "import urllib.request\n",
    "import shutil\n",
    "\n",
    "def download():\n",
    "    src = 'https://stockfishchess.org/files/stockfish-11-linux.zip'\n",
    "    dst = Path().absolute() / 'tools' / 'stockfish.zip'\n",
    "    \n",
    "    if not dst.is_file():\n",
    "        request = urllib.request.Request(src)\n",
    "        request.add_header('Referer', 'https://stockfishchess.org/download/')\n",
    "        request.add_header('User-Agent', 'Mozilla/5.0 (Windows NT 6.1; Win64; x64)')\n",
    "        \n",
    "        with urllib.request.urlopen(request) as response, open(dst, 'wb') as dst_file:\n",
    "            shutil.copyfileobj(response, dst_file)\n",
    "            \n",
    "    return dst"
   ]
  },
  {
   "cell_type": "markdown",
   "metadata": {},
   "source": [
    "We still need to extract the downloaded Zip archive. Also, we need to make the stockfish binary executable. There are 3 binaries available in this version, we use what I guess is the default one. More quick'n'dirty hardcoding that I expect to break sooner than later."
   ]
  },
  {
   "cell_type": "code",
   "execution_count": null,
   "metadata": {},
   "outputs": [],
   "source": [
    "#export\n",
    "from pathlib import Path\n",
    "import zipfile\n",
    "import os\n",
    "import stat\n",
    "\n",
    "def extract(dst:Path):\n",
    "    if not dst.is_file():\n",
    "        return\n",
    "    \n",
    "    with zipfile.ZipFile(dst, 'r') as zip_file:\n",
    "        zip_file.extractall(Path().absolute() / 'tools')\n",
    "        dst_extracted = Path().absolute() / 'tools' / zip_file.namelist()[0]\n",
    "            \n",
    "        # make binary executable\n",
    "        dst_binary = dst_extracted / 'Linux' / 'stockfish_20011801_x64'\n",
    "        st = os.stat(dst_binary)\n",
    "        os.chmod(dst_binary, st.st_mode | stat.S_IEXEC)\n",
    "        \n",
    "        return dst_binary"
   ]
  },
  {
   "cell_type": "code",
   "execution_count": null,
   "metadata": {},
   "outputs": [],
   "source": [
    "stockfish = extract(download())"
   ]
  },
  {
   "cell_type": "markdown",
   "metadata": {},
   "source": [
    "Check if we can run stockfish now, but let's not get stuck in stockfish's command prompt. So we send 'quit' to it immediately, which will still return the version of the binary and its authors."
   ]
  },
  {
   "cell_type": "code",
   "execution_count": null,
   "metadata": {},
   "outputs": [
    {
     "name": "stdout",
     "output_type": "stream",
     "text": [
      "Stockfish 11 64 by T. Romstad, M. Costalba, J. Kiiski, G. Linscott\r\n"
     ]
    }
   ],
   "source": [
    "!{stockfish} quit"
   ]
  },
  {
   "cell_type": "markdown",
   "metadata": {},
   "source": [
    "The next step is to hook up the engine with Python chess, as described in their documentation: https://python-chess.readthedocs.io/en/latest/engine.html\n",
    "\n",
    "PGN can be described as a hierarchical document model due to its ability to store variations next to the mainline. Python chess uses a recursive nodes structure to model PGN; `GameNode::add_main_variation(move: chess.Move)->GameNode` processes a move, adds it as a child to the current node and returns the child. If we only process the mainline moves, the structure effectively represents a linked list. We could also just use a chess.Board instance to replay the engine results back to Python chess. Since our data module handles PGN however, I thought I go the extra step here. The way engine, game and board interact feels fragile to me but that is perhaps because board isn't just a plain chess position viewer. Instead, it has game/engine logic of its own."
   ]
  },
  {
   "cell_type": "code",
   "execution_count": null,
   "metadata": {},
   "outputs": [],
   "source": [
    "#export\n",
    "from pathlib import Path\n",
    "import chess\n",
    "import chess.engine\n",
    "import chess.pgn\n",
    "import cheviz.data\n",
    "import datetime\n",
    "\n",
    "def playGame(engine_path:Path, time_limit:float=0.1):\n",
    "    engine = chess.engine.SimpleEngine.popen_uci(engine_path.as_posix())\n",
    "    game = chess.pgn.Game()\n",
    "    game.headers['Event'] = 'cheviz'\n",
    "    game.headers['Date'] = datetime.date.today().strftime(\"%Y-%m-%d\")\n",
    "    game.headers['White'] = engine_path.name\n",
    "    game.headers['Black'] = engine_path.name\n",
    "\n",
    "    while not game.board().is_game_over():\n",
    "        result = engine.play(game.board(), chess.engine.Limit(time=time_limit), info=chess.engine.Info.SCORE)\n",
    "        game = game.add_main_variation(result.move)\n",
    "        # result.info is sometimes empty, happens more reliably with very short time limits\n",
    "        game.comment = result.info['score'] if 'score' in result.info else None\n",
    "\n",
    "    engine.quit()\n",
    "    # set game back to root node\n",
    "    game = game.game()\n",
    "    game.headers['Result'] = game.board().result\n",
    "    \n",
    "    return game"
   ]
  },
  {
   "cell_type": "markdown",
   "metadata": {},
   "source": [
    "Computer chess is extremely technical and moves will pile up. Even with short time limits a chess engine vs chess engine game can take a couple seconds or even minutes. Too short of a time limit and computer chess turns into garbage. Notice that it's not the engine that's slow, it's how we interact with it and process results."
   ]
  },
  {
   "cell_type": "code",
   "execution_count": null,
   "metadata": {},
   "outputs": [
    {
     "name": "stdout",
     "output_type": "stream",
     "text": [
      "CPU times: user 6.61 s, sys: 180 ms, total: 6.79 s\n",
      "Wall time: 1min 1s\n"
     ]
    },
    {
     "data": {
      "text/plain": [
       "<Mainline at 0x7f3a2239d0b8 (1. e4 e5 2. Nc3 Nf6 3. Nf3 Bb4 4. Nxe5 O-O 5. Nf3 Re8 6. Be2 Bxc3 7. dxc3 Nxe4 8. O-O d6 9. Ne1 Bf5 10. Bf3 d5 11. Nd3 h6 12. Bxe4 dxe4 13. Nf4 Nd7 14. Qh5 Re5 15. Rd1 g5 16. Nd5 Nf6 17. Nxf6+ Qxf6 18. Be3 Qe6 19. h3 b6 20. c4 Re8 21. a4 Qg6 22. Qxg6+ Bxg6 23. a5 Rxa5 24. Rxa5 bxa5 25. Rd7 Rc8 26. g4 f5 27. Bd4 Be8 28. Rg7+ Kf8 29. Rh7 fxg4 30. hxg4 Rd8 31. Be3 Rb8 32. Bd4 Rd8 33. Be3 Kg8 34. Rxh6 Rd6 35. Bxg5 Rxh6 36. Bxh6 Ba4 37. Bf4 Bxc2 38. Bxc7 Bd1 39. Kh2 Bxg4 40. Kg3 Be2 41. c5 e3 42. fxe3 Kf7 43. Bxa5 Bb5 44. Kf4 Ke6 45. Ke4 Ba4 46. Kd4 Kd7 47. e4 Ke6 48. Be1 Be8 49. Ba5 Ba4 50. Bc7 Bc6 51. Ke3 Be8 52. Ba5 Bc6 53. Bc3 Be8 54. Kd4 Bd7 55. Be1 Bb5 56. Bd2 Bc6 57. Bc3 Bd7 58. Ke3 Bc6 59. Ba5 Be8 60. Bc7 a6 61. Ba5 Bd7 62. Kf4 Bb5 63. Ke3 Bd7 64. Bc7 Be8 65. Kd4 Bc6 66. Ba5 Ba8 67. Bb4 Bb7 68. Be1 Bc6 69. Bd2 Bb7 70. Bc3 Bc6 71. Bd2 Bb7 72. Bf4 Bc6 73. Bg3 Bb7 74. Be1 Bc6 75. Bc3 Bb5 76. Ba5 Bc6 77. Bc3 Ba8 78. Ke3 Bc6 79. Kf4 Bb7 80. Ke3 Bc6 81. Kf4 Bb7 82. Ba5 Bc6 83. Bd2 Bd7 84. Bc3 Bb5 85. Bb4 Bc6 86. Bd2 Bd7 87. Ke3 Bc6 88. Be1 Ke5 89. Bg3+ Ke6 90. Bh4 Ba8 91. Bg3 Bc6 92. Kf4 Bb5 93. Bh4 Bc6 94. Be1 Bb7 95. Ba5 Bc6 96. Bb6 Ba8 97. Bc7 Bb7 98. Bb6 Ba8 99. Bc7 Bc6 100. Bd6 Bd7 101. Ke3 Bb5 102. Kd4 Bc6 103. Bb8 Bb7 104. e5 Bf3 105. Bd6 Bd5 106. Bb8 Bf3 107. Bd6 Bd5 108. Kc3 Kd7 109. Kb4 Kc6 110. Kc3 Kd7 111. Bf8 Be6 112. Kd4 Bh3 113. Kd5 Bg2+ 114. Kc4 Kc6 115. Kd4 Kd7 116. Kc4 Kc6 117. Kb4 Bh3 118. Ka5 Bc8 119. Kb4 Be6 120. Bd6 Bh3 121. Kc4 Kd7 122. Kd4 Bg2 123. Kc4 Bh3 124. Kd5 Bg2+ 125. Kd4 Bf1 126. Bf8 Bh3 127. Bh6 Bg2 128. Kc4 Kc6 129. Bd2 Bd5+ 130. Kd4 Be6 131. Be1 Bf5 132. Bd2 Be6 133. Be3 Kd7 134. Bh6 Bh3 135. Kd5 Bg2+ 136. Kc4 Kc6 137. Bf8 Bh3 138. Be7 Be6+ 139. Kd4 Kd7 140. Bh4 Bh3 141. Kd5 Be6+ 142. Ke4 Bh3 143. Kd4 Be6 144. Be1 Bh3 145. Bh4 Be6 146. Bf6 Bh3 147. Kc4 Be6+ 148. Kd4 Bh3 149. Bg7 Bf5 150. Bh6 Be6 151. Ke4 Bh3 152. b3 Be6 153. b4 Bh3 154. Bd2 Ke6 155. Bc3 Bg2+ 156. Kf4 Bc6 157. Bd4 Bg2 158. Bg1 Bc6 159. Bd4 Bg2 160. Kg5 Be4 161. Bb2 Bc6 162. Kh6 Bg2 163. Kg6 Bd5 164. Kg7 Bc6 165. Kf8 Bd7 166. Ba1 Bc6 167. Bc3 Bd7 168. Kg8 Ba4 169. Kg7 Bc6 170. Kg6 Bd5 171. Kh7 Be4+ 172. Kh6 Bd5 173. Kg7 Bc6 174. Kg6 Be4+ 175. Kg5 Bc6 176. Ba1 Be4 177. Kf4 Bc6 178. Bb2 Bb7 179. Ke3 Kd5 180. Kf4 Ke6 181. Ba1 Bc6 182. Bc3 Bb7 183. Kg5 Bd5 184. Kf4 Bc6 185. Be1 Bd5 186. Bg3 Bb7 187. Kg5 Bc6 188. Kg6 Be8+ 189. Kh6 Bb5 190. Kg7 Bd7 191. Bf2 Be8 192. Bd4 Bc6 193. Kg6 Be8+ 194. Kg7 Bc6 195. Kg6 Bd7 196. Kg5 Bc6 197. Bb2 Be4 198. Bd4 Bb7 199. Kg4 Bc6 200. Bc3 Bb7 201. c6 Bxc6 202. Kf4 Bb7 203. Be1 Bg2 204. Bc3 Bc6 205. Bd4 Kd5 206. Bf2 Bd7 207. Bg3 Bc8 208. Ke3 Bd7 209. Kf4 Bc8 210. Be1 Bd7 211. Bd2 Bc8 212. Bc1 Be6 213. Bb2 Bd7 214. Bc3 Kc4 215. Be1 Kd5 216. Bd2 Bc8 217. Be3 Bd7 218. Bc5 Bc8 219. Bd6 Bd7 220. Bc7 Bc8 221. Bb6 Kc4 222. Be3 Kxb4 223. Ke4 Kc4 224. Bd2 Be6 225. Ke3 Kd5 226. Kd3 Kxe5 227. Kc3 a5 228. Kb2 a4 229. Ka3 Bd7 230. Bb4 Kd4 231. Be1 Ke4 232. Bb4 Kd4 233. Be1 Kc4 234. Bb4 Kd5 235. Be1 Bc6 236. Bh4 Kd4 237. Kb4 Bd7 238. Bd8 Bc6 239. Bb6+ Kd5 240. Ba5 Bd7 241. Bb6 Bc6 242. Ba5 Be8 243. Bd8 Kd4 244. Bb6+ Kd5 245. Bd8 Bd7 246. Bb6 Be8 247. Bd8 Bd7 248. Bb6 Be8 249. Bd8 Bd7 250. Bf6 Bc6 251. Bc3 Be8 252. Bg7 Bc6 253. Ba1 Be8 254. Bg7 Bc6 255. Bh8 Bd7 256. Bb2 Bc6 257. Bg7 Bd7 258. Bf6 Bc6 259. Ba1 Be8 260. Bc3 Bd7 261. Bb2 Be8 262. Ba1 Bd7 263. Bc3 Be8 264. Ba1 Bc6 265. Bb2 Be8 266. Bc3 Bd7 267. Bh8 Be8 268. Bb2 Bd7 269. Bh8 Be8 270. Bc3 Bd7 271. Bh8 Be8 272. Ba1 Bd7 273. Bh8 Ke4 274. Bc3 Kf3 275. Bb2 Be8 276. Ka3 Kg2 277. Bg7 Bb5 278. Ba1 Bf1 279. Bb2 Be2 280. Ba1 Bd1 281. Bb2 Bc2 282. Ba1 Bb1 283. Bb2 Ba2 284. Kxa2 a3 285. Kxa3)>"
      ]
     },
     "metadata": {},
     "output_type": "display_data"
    }
   ],
   "source": [
    "%time game = playGame(stockfish)\n",
    "display(game.mainline_moves())"
   ]
  },
  {
   "cell_type": "markdown",
   "metadata": {},
   "source": [
    "Let's look at the engine's game through our UI."
   ]
  },
  {
   "cell_type": "code",
   "execution_count": null,
   "metadata": {},
   "outputs": [
    {
     "data": {
      "application/vnd.jupyter.widget-view+json": {
       "model_id": "ad1db9af6a174bfda8c74aff89cb9a4b",
       "version_major": 2,
       "version_minor": 0
      },
      "text/plain": [
       "interactive(children=(Dropdown(description='Metric:', options=(<function diffReduce at 0x7f3a290bae18>, <built…"
      ]
     },
     "metadata": {},
     "output_type": "display_data"
    }
   ],
   "source": [
    "import cheviz.ui\n",
    "\n",
    "games_list = []\n",
    "games_list.append(cheviz.data.from_game(game))\n",
    "cheviz.ui.showGameUi(games_list)"
   ]
  },
  {
   "cell_type": "markdown",
   "metadata": {},
   "source": [
    "We use the same display wrap trick as in the `02_ui.ipynb` notebook."
   ]
  },
  {
   "cell_type": "code",
   "execution_count": null,
   "metadata": {},
   "outputs": [
    {
     "data": {
      "text/html": [
       "<style>\n",
       ".output {\n",
       "    flex-direction: row;\n",
       "    flex-wrap: wrap;\n",
       "}\n",
       "</style>"
      ],
      "text/plain": [
       "<IPython.core.display.HTML object>"
      ]
     },
     "execution_count": null,
     "metadata": {},
     "output_type": "execute_result"
    }
   ],
   "source": [
    "from IPython.display import display, HTML\n",
    "\n",
    "CSS = \"\"\"\n",
    ".output {\n",
    "    flex-direction: row;\n",
    "    flex-wrap: wrap;\n",
    "}\n",
    "\"\"\"\n",
    "\n",
    "HTML('<style>{}</style>'.format(CSS))"
   ]
  },
  {
   "cell_type": "code",
   "execution_count": null,
   "metadata": {},
   "outputs": [],
   "source": []
  }
 ],
 "metadata": {
  "kernelspec": {
   "display_name": "Python 3",
   "language": "python",
   "name": "python3"
  }
 },
 "nbformat": 4,
 "nbformat_minor": 4
}
