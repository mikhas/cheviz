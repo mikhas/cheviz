{
 "cells": [
  {
   "cell_type": "code",
   "execution_count": null,
   "metadata": {},
   "outputs": [],
   "source": [
    "#hide\n",
    "from cheviz.core import *"
   ]
  },
  {
   "cell_type": "markdown",
   "metadata": {},
   "source": [
    "# Cheviz\n",
    "\n",
    "> Showcase Data engineering and ETL pipelines with chess."
   ]
  },
  {
   "cell_type": "markdown",
   "metadata": {},
   "source": [
    "## 1. Project goals\n",
    "\n",
    "### 1.0 Learn stuff.\n",
    "\n",
    "### 1.1 Start a project with publishable documentation from the beginning.\n",
    "\n",
    "Usually you'd hack on your code, then at one point think you can push it out to github and make a series of blog post to talk about the cool stuff you did. I think that's deeply flawed and too cumbersome. So let's try to start with documentation first, then start implementing your ideas from top to bottom, talking about them while you are trying to get them to work. Hopefully that makes the documentation less hand-wavy and less likely to gloss over details.\n",
    "\n",
    "### 1.2 Have a proper ETL pipeline, from data to insights.\n",
    "\n",
    "One goal is to make chess visible in a way that we can approach it like any other data. If we embed the effect of pieces on the board differently, we can reduce a chess game to a series of 8x8 matrices over $\\mathbb{N}$. See figure below.\n",
    "![Visualized metrics from 1953 candidates tournament](images/euwe-najdorf-zurich1953.png \"Visualized metrics from 1953 candidates tournament\")"
   ]
  },
  {
   "cell_type": "markdown",
   "metadata": {},
   "source": [
    "## 2. Install\n",
    "\n",
    "### 2.1 miniconda\n",
    "\n",
    "You might want to start from miniconda, especially if you are on Windows or an older Linux distribution.\n",
    "See https://docs.conda.io/en/latest/miniconda.html for installing miniconda.\n",
    "\n",
    "The `requirements.txt` exists to help setup your conda environment. To install all dependencies into your new conda environment, including pytorch and fastai, use the following command:\n",
    "\n",
    "`$ conda create --name [ENV] --channel pytorch --channel fastai --file requirements.txt`"
   ]
  },
  {
   "cell_type": "markdown",
   "metadata": {},
   "source": [
    "## 3. Hacking\n",
    "\n",
    "### 3.1 nbdev\n",
    "\n",
    "Install nbdev via `pip install nbdev`. Before doing anything else, install the nbdev git hooks via `nbdev_install_git_hooks` otherwise git and Jupyter won't play well together. See https://nbdev.fast.ai/ for details.\n",
    "\n",
    "You can run `make` to update the Python library `cheviz` from the Jupyter notebooks. This also updates the `README.md`. Remember to adjust `settings.ini` as needed.\n",
    "\n",
    "### 3.2 Jupyter widgets\n",
    "\n",
    "For JupyterLab, just installing ipywidgets via conda isn't enough. We also need nodejs (sigh) because JupyterLab has an extensions system now. Apparently it causes some frustration among users because it wasn't clearly communicated why upgrading from Jupyter Notebooks to JupyterLab broke important functionality. Anyway, we install ipywidgets like so:\n",
    "\n",
    "```bash\n",
    "$ conda install -n [ENV] -c conda-forge ipywidgets\n",
    "$ conda install -n [ENV] -c conda-forge nodejs\n",
    "$ conda activate [ENV]\n",
    "$ jupyter labextension install @jupyter-widgets/jupyterlab-manager\n",
    "```\n",
    "\n",
    "This requires a restart of the Jupyter server to take effect."
   ]
  },
  {
   "cell_type": "code",
   "execution_count": null,
   "metadata": {},
   "outputs": [],
   "source": []
  }
 ],
 "metadata": {
  "kernelspec": {
   "display_name": "Python 3",
   "language": "python",
   "name": "python3"
  }
 },
 "nbformat": 4,
 "nbformat_minor": 2
}
